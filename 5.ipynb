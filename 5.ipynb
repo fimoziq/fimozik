{
  "nbformat": 4,
  "nbformat_minor": 0,
  "metadata": {
    "colab": {
      "name": "5.ipynb",
      "provenance": [],
      "authorship_tag": "ABX9TyOvQAmycsAi1XQQE9WwzG7m",
      "include_colab_link": true
    },
    "kernelspec": {
      "name": "python3",
      "display_name": "Python 3"
    },
    "language_info": {
      "name": "python"
    }
  },
  "cells": [
    {
      "cell_type": "markdown",
      "metadata": {
        "id": "view-in-github",
        "colab_type": "text"
      },
      "source": [
        "<a href=\"https://colab.research.google.com/github/fimoziq/unecozik/blob/main/5.ipynb\" target=\"_parent\"><img src=\"https://colab.research.google.com/assets/colab-badge.svg\" alt=\"Open In Colab\"/></a>"
      ]
    },
    {
      "cell_type": "code",
      "metadata": {
        "id": "9SU6r4f1XW0o"
      },
      "source": [
        "import matplotlib.pyplot as plt\n",
        "import numpy as np\n",
        "import pandas as pd\n",
        "from datetime import datetime\n",
        "from scipy.optimize import minimize\n",
        "from statsmodels.tsa.stattools import adfuller"
      ],
      "execution_count": 34,
      "outputs": []
    },
    {
      "cell_type": "code",
      "metadata": {
        "colab": {
          "base_uri": "https://localhost:8080/",
          "height": 235
        },
        "id": "rLDDg_VidFU_",
        "outputId": "f4d80329-41e7-4eb3-c6c9-04796f4b354a"
      },
      "source": [
        "df = read_csv('BAKA1.csv',parse_dates = True, index_col = 0,delimiter=';',decimal=',')\n",
        "df.head()"
      ],
      "execution_count": 35,
      "outputs": [
        {
          "output_type": "execute_result",
          "data": {
            "text/html": [
              "<div>\n",
              "<style scoped>\n",
              "    .dataframe tbody tr th:only-of-type {\n",
              "        vertical-align: middle;\n",
              "    }\n",
              "\n",
              "    .dataframe tbody tr th {\n",
              "        vertical-align: top;\n",
              "    }\n",
              "\n",
              "    .dataframe thead th {\n",
              "        text-align: right;\n",
              "    }\n",
              "</style>\n",
              "<table border=\"1\" class=\"dataframe\">\n",
              "  <thead>\n",
              "    <tr style=\"text-align: right;\">\n",
              "      <th></th>\n",
              "      <th>доход</th>\n",
              "    </tr>\n",
              "    <tr>\n",
              "      <th>дата</th>\n",
              "      <th></th>\n",
              "    </tr>\n",
              "  </thead>\n",
              "  <tbody>\n",
              "    <tr>\n",
              "      <th>2007-01-01</th>\n",
              "      <td>139.11</td>\n",
              "    </tr>\n",
              "    <tr>\n",
              "      <th>2007-02-01</th>\n",
              "      <td>136.97</td>\n",
              "    </tr>\n",
              "    <tr>\n",
              "      <th>2007-03-01</th>\n",
              "      <td>131.70</td>\n",
              "    </tr>\n",
              "    <tr>\n",
              "      <th>2007-04-01</th>\n",
              "      <td>120.63</td>\n",
              "    </tr>\n",
              "    <tr>\n",
              "      <th>2007-05-01</th>\n",
              "      <td>120.23</td>\n",
              "    </tr>\n",
              "  </tbody>\n",
              "</table>\n",
              "</div>"
            ],
            "text/plain": [
              "             доход\n",
              "дата              \n",
              "2007-01-01  139.11\n",
              "2007-02-01  136.97\n",
              "2007-03-01  131.70\n",
              "2007-04-01  120.63\n",
              "2007-05-01  120.23"
            ]
          },
          "metadata": {},
          "execution_count": 35
        }
      ]
    },
    {
      "cell_type": "code",
      "metadata": {
        "colab": {
          "base_uri": "https://localhost:8080/",
          "height": 235
        },
        "id": "b_rCoIeSdKQP",
        "outputId": "3d02c81c-764d-4d64-ac23-f49f18304047"
      },
      "source": [
        "df_columns, df.columns = df.columns, ('y', )\n",
        "df_index, df.index.name = df.index.name, 'date'\n",
        "df.head()"
      ],
      "execution_count": 36,
      "outputs": [
        {
          "output_type": "execute_result",
          "data": {
            "text/html": [
              "<div>\n",
              "<style scoped>\n",
              "    .dataframe tbody tr th:only-of-type {\n",
              "        vertical-align: middle;\n",
              "    }\n",
              "\n",
              "    .dataframe tbody tr th {\n",
              "        vertical-align: top;\n",
              "    }\n",
              "\n",
              "    .dataframe thead th {\n",
              "        text-align: right;\n",
              "    }\n",
              "</style>\n",
              "<table border=\"1\" class=\"dataframe\">\n",
              "  <thead>\n",
              "    <tr style=\"text-align: right;\">\n",
              "      <th></th>\n",
              "      <th>y</th>\n",
              "    </tr>\n",
              "    <tr>\n",
              "      <th>date</th>\n",
              "      <th></th>\n",
              "    </tr>\n",
              "  </thead>\n",
              "  <tbody>\n",
              "    <tr>\n",
              "      <th>2007-01-01</th>\n",
              "      <td>139.11</td>\n",
              "    </tr>\n",
              "    <tr>\n",
              "      <th>2007-02-01</th>\n",
              "      <td>136.97</td>\n",
              "    </tr>\n",
              "    <tr>\n",
              "      <th>2007-03-01</th>\n",
              "      <td>131.70</td>\n",
              "    </tr>\n",
              "    <tr>\n",
              "      <th>2007-04-01</th>\n",
              "      <td>120.63</td>\n",
              "    </tr>\n",
              "    <tr>\n",
              "      <th>2007-05-01</th>\n",
              "      <td>120.23</td>\n",
              "    </tr>\n",
              "  </tbody>\n",
              "</table>\n",
              "</div>"
            ],
            "text/plain": [
              "                 y\n",
              "date              \n",
              "2007-01-01  139.11\n",
              "2007-02-01  136.97\n",
              "2007-03-01  131.70\n",
              "2007-04-01  120.63\n",
              "2007-05-01  120.23"
            ]
          },
          "metadata": {},
          "execution_count": 36
        }
      ]
    },
    {
      "cell_type": "code",
      "metadata": {
        "colab": {
          "base_uri": "https://localhost:8080/"
        },
        "id": "qNsiMu7Ado1x",
        "outputId": "594b5a91-8dce-4264-95e9-218937d06ad2"
      },
      "source": [
        "df.info()"
      ],
      "execution_count": 37,
      "outputs": [
        {
          "output_type": "stream",
          "name": "stdout",
          "text": [
            "<class 'pandas.core.frame.DataFrame'>\n",
            "DatetimeIndex: 48 entries, 2007-01-01 to 2010-12-01\n",
            "Data columns (total 1 columns):\n",
            " #   Column  Non-Null Count  Dtype  \n",
            "---  ------  --------------  -----  \n",
            " 0   y       48 non-null     float64\n",
            "dtypes: float64(1)\n",
            "memory usage: 768.0 bytes\n"
          ]
        }
      ]
    },
    {
      "cell_type": "code",
      "metadata": {
        "colab": {
          "base_uri": "https://localhost:8080/"
        },
        "id": "HWvo7_Zudrqh",
        "outputId": "91f935ca-769f-49ad-a840-6de1592156b0"
      },
      "source": [
        "len(df)"
      ],
      "execution_count": 38,
      "outputs": [
        {
          "output_type": "execute_result",
          "data": {
            "text/plain": [
              "48"
            ]
          },
          "metadata": {},
          "execution_count": 38
        }
      ]
    },
    {
      "cell_type": "code",
      "metadata": {
        "colab": {
          "base_uri": "https://localhost:8080/",
          "height": 400
        },
        "id": "89rkXVUedPEB",
        "outputId": "3a5b67ae-a22b-4a6e-c444-a60004b77a84"
      },
      "source": [
        "df.plot(figsize=(12,6))\n",
        "plt.show()"
      ],
      "execution_count": 39,
      "outputs": [
        {
          "output_type": "display_data",
          "data": {
            "image/png": "[encoded data removed]",
            "text/plain": [
              "<Figure size 864x432 with 1 Axes>"
            ]
          },
          "metadata": {
            "needs_background": "light"
          }
        }
      ]
    },
    {
      "cell_type": "code",
      "metadata": {
        "colab": {
          "base_uri": "https://localhost:8080/",
          "height": 425
        },
        "id": "Qx8DOssWeMkp",
        "outputId": "ca2da924-8813-4782-e6ad-fa1d9ef49a34"
      },
      "source": [
        "from statsmodels.tsa.holtwinters import ExponentialSmoothing\n",
        "\n",
        "train, test = df.iloc[:36], df.iloc[36:]\n",
        "model = ExponentialSmoothing(train.values, seasonal='mul', seasonal_periods=12).fit()\n",
        "pred = model.predict(start=len(train), end=len(test)+len(train)-1)\n",
        "\n",
        "plt.figure(figsize=(12,6))\n",
        "\n",
        "plt.plot(train.index, train, label='Train')\n",
        "plt.plot(test.index, test, label='Test')\n",
        "plt.plot(test.index, pred, label='Holt-Winters')\n",
        "plt.legend(loc='best')"
      ],
      "execution_count": 40,
      "outputs": [
        {
          "output_type": "stream",
          "name": "stderr",
          "text": [
            "/usr/local/lib/python3.7/dist-packages/statsmodels/tsa/holtwinters.py:712: ConvergenceWarning: Optimization failed to converge. Check mle_retvals.\n",
            "  ConvergenceWarning)\n"
          ]
        },
        {
          "output_type": "execute_result",
          "data": {
            "text/plain": [
              "<matplotlib.legend.Legend at 0x7f16b2940a10>"
            ]
          },
          "metadata": {},
          "execution_count": 40
        },
        {
          "output_type": "display_data",
          "data": {
            "image/png": "[encoded data removed]",
            "text/plain": [
              "<Figure size 864x432 with 1 Axes>"
            ]
          },
          "metadata": {
            "needs_background": "light"
          }
        }
      ]
    },
    {
      "cell_type": "code",
      "metadata": {
        "colab": {
          "base_uri": "https://localhost:8080/",
          "height": 542
        },
        "id": "lSf380BnfLv6",
        "outputId": "f2a3b073-d32b-453d-866d-43fc061930bb"
      },
      "source": [
        "model.summary()"
      ],
      "execution_count": 41,
      "outputs": [
        {
          "output_type": "execute_result",
          "data": {
            "text/html": [
              "<table class=\"simpletable\">\n",
              "<caption>ExponentialSmoothing Model Results</caption>\n",
              "<tr>\n",
              "  <th>Dep. Variable:</th>            <td>endog</td>        <th>  No. Observations:  </th>        <td>36</td>       \n",
              "</tr>\n",
              "<tr>\n",
              "  <th>Model:</th>            <td>ExponentialSmoothing</td> <th>  SSE                </th>      <td>628.396</td>    \n",
              "</tr>\n",
              "<tr>\n",
              "  <th>Optimized:</th>                <td>True</td>         <th>  AIC                </th>      <td>130.947</td>    \n",
              "</tr>\n",
              "<tr>\n",
              "  <th>Trend:</th>                    <td>None</td>         <th>  BIC                </th>      <td>153.117</td>    \n",
              "</tr>\n",
              "<tr>\n",
              "  <th>Seasonal:</th>            <td>Multiplicative</td>    <th>  AICC               </th>      <td>159.579</td>    \n",
              "</tr>\n",
              "<tr>\n",
              "  <th>Seasonal Periods:</th>          <td>12</td>          <th>  Date:              </th> <td>Tue, 12 Oct 2021</td>\n",
              "</tr>\n",
              "<tr>\n",
              "  <th>Box-Cox:</th>                  <td>False</td>        <th>  Time:              </th>     <td>12:31:50</td>    \n",
              "</tr>\n",
              "<tr>\n",
              "  <th>Box-Cox Coeff.:</th>           <td>None</td>         <th>                     </th>         <td> </td>       \n",
              "</tr>\n",
              "</table>\n",
              "<table class=\"simpletable\">\n",
              "<tr>\n",
              "           <td></td>                  <th>coeff</th>                <th>code</th>               <th>optimized</th>     \n",
              "</tr>\n",
              "<tr>\n",
              "  <th>smoothing_level</th>    <td>           0.7368421</td> <td>               alpha</td> <td>                True</td>\n",
              "</tr>\n",
              "<tr>\n",
              "  <th>smoothing_seasonal</th> <td>           0.2631579</td> <td>               gamma</td> <td>                True</td>\n",
              "</tr>\n",
              "<tr>\n",
              "  <th>initial_level</th>      <td>           144.83007</td> <td>                 l.0</td> <td>                True</td>\n",
              "</tr>\n",
              "<tr>\n",
              "  <th>initial_seasons.0</th>  <td>           0.9324352</td> <td>                 s.0</td> <td>                True</td>\n",
              "</tr>\n",
              "<tr>\n",
              "  <th>initial_seasons.1</th>  <td>           0.9482014</td> <td>                 s.1</td> <td>                True</td>\n",
              "</tr>\n",
              "<tr>\n",
              "  <th>initial_seasons.2</th>  <td>           0.9022373</td> <td>                 s.2</td> <td>                True</td>\n",
              "</tr>\n",
              "<tr>\n",
              "  <th>initial_seasons.3</th>  <td>           0.8898525</td> <td>                 s.3</td> <td>                True</td>\n",
              "</tr>\n",
              "<tr>\n",
              "  <th>initial_seasons.4</th>  <td>           0.8344116</td> <td>                 s.4</td> <td>                True</td>\n",
              "</tr>\n",
              "<tr>\n",
              "  <th>initial_seasons.5</th>  <td>           0.8247767</td> <td>                 s.5</td> <td>                True</td>\n",
              "</tr>\n",
              "<tr>\n",
              "  <th>initial_seasons.6</th>  <td>           0.8106831</td> <td>                 s.6</td> <td>                True</td>\n",
              "</tr>\n",
              "<tr>\n",
              "  <th>initial_seasons.7</th>  <td>           0.8438383</td> <td>                 s.7</td> <td>                True</td>\n",
              "</tr>\n",
              "<tr>\n",
              "  <th>initial_seasons.8</th>  <td>           0.8724318</td> <td>                 s.8</td> <td>                True</td>\n",
              "</tr>\n",
              "<tr>\n",
              "  <th>initial_seasons.9</th>  <td>           0.9291215</td> <td>                 s.9</td> <td>                True</td>\n",
              "</tr>\n",
              "<tr>\n",
              "  <th>initial_seasons.10</th> <td>           0.9419525</td> <td>                s.10</td> <td>                True</td>\n",
              "</tr>\n",
              "<tr>\n",
              "  <th>initial_seasons.11</th> <td>           0.9746267</td> <td>                s.11</td> <td>                True</td>\n",
              "</tr>\n",
              "</table>"
            ],
            "text/plain": [
              "<class 'statsmodels.iolib.summary.Summary'>\n",
              "\"\"\"\n",
              "                       ExponentialSmoothing Model Results                       \n",
              "================================================================================\n",
              "Dep. Variable:                    endog   No. Observations:                   36\n",
              "Model:             ExponentialSmoothing   SSE                            628.396\n",
              "Optimized:                         True   AIC                            130.947\n",
              "Trend:                             None   BIC                            153.117\n",
              "Seasonal:                Multiplicative   AICC                           159.579\n",
              "Seasonal Periods:                    12   Date:                 Tue, 12 Oct 2021\n",
              "Box-Cox:                          False   Time:                         12:31:50\n",
              "Box-Cox Coeff.:                    None                                         \n",
              "=================================================================================\n",
              "                          coeff                 code              optimized      \n",
              "---------------------------------------------------------------------------------\n",
              "smoothing_level               0.7368421                alpha                 True\n",
              "smoothing_seasonal            0.2631579                gamma                 True\n",
              "initial_level                 144.83007                  l.0                 True\n",
              "initial_seasons.0             0.9324352                  s.0                 True\n",
              "initial_seasons.1             0.9482014                  s.1                 True\n",
              "initial_seasons.2             0.9022373                  s.2                 True\n",
              "initial_seasons.3             0.8898525                  s.3                 True\n",
              "initial_seasons.4             0.8344116                  s.4                 True\n",
              "initial_seasons.5             0.8247767                  s.5                 True\n",
              "initial_seasons.6             0.8106831                  s.6                 True\n",
              "initial_seasons.7             0.8438383                  s.7                 True\n",
              "initial_seasons.8             0.8724318                  s.8                 True\n",
              "initial_seasons.9             0.9291215                  s.9                 True\n",
              "initial_seasons.10            0.9419525                 s.10                 True\n",
              "initial_seasons.11            0.9746267                 s.11                 True\n",
              "---------------------------------------------------------------------------------\n",
              "\"\"\""
            ]
          },
          "metadata": {},
          "execution_count": 41
        }
      ]
    },
    {
      "cell_type": "markdown",
      "metadata": {
        "id": "L9_v0cA9fbzy"
      },
      "source": [
        "^мультипликативные сезонные коэффициенты\n",
        "^SSE-сумма квадратов ошибок\n",
        "^период - 12"
      ]
    },
    {
      "cell_type": "code",
      "metadata": {
        "id": "WcMLVkIigCJ7"
      },
      "source": [
        "from sklearn.linear_model import LinearRegression\n",
        "model = LinearRegression()"
      ],
      "execution_count": 45,
      "outputs": []
    },
    {
      "cell_type": "code",
      "metadata": {
        "colab": {
          "base_uri": "https://localhost:8080/"
        },
        "id": "GxYrVnu-gqBq",
        "outputId": "b2307188-3878-474c-81d3-c89fc7905077"
      },
      "source": [
        "X = np.array(range(1,df.shape[0]+1)).reshape(df.shape[0],1)\n",
        "X[0:5]"
      ],
      "execution_count": 46,
      "outputs": [
        {
          "output_type": "execute_result",
          "data": {
            "text/plain": [
              "array([[1],\n",
              "       [2],\n",
              "       [3],\n",
              "       [4],\n",
              "       [5]])"
            ]
          },
          "metadata": {},
          "execution_count": 46
        }
      ]
    },
    {
      "cell_type": "code",
      "metadata": {
        "colab": {
          "base_uri": "https://localhost:8080/"
        },
        "id": "aw9CqopMgs6a",
        "outputId": "f9196421-51f2-49b2-b869-3d911b84fb58"
      },
      "source": [
        "assert len(X)==len(y)\n",
        "model.fit(X, y)"
      ],
      "execution_count": 47,
      "outputs": [
        {
          "output_type": "execute_result",
          "data": {
            "text/plain": [
              "LinearRegression(copy_X=True, fit_intercept=True, n_jobs=None, normalize=False)"
            ]
          },
          "metadata": {},
          "execution_count": 47
        }
      ]
    },
    {
      "cell_type": "code",
      "metadata": {
        "colab": {
          "base_uri": "https://localhost:8080/"
        },
        "id": "0-cfHMJ0gwuK",
        "outputId": "046f9b60-f1d7-4f96-8bec-57818f5f9339"
      },
      "source": [
        "coefs = model.coef_\n",
        "coefs"
      ],
      "execution_count": 48,
      "outputs": [
        {
          "output_type": "execute_result",
          "data": {
            "text/plain": [
              "array([0.92934379])"
            ]
          },
          "metadata": {},
          "execution_count": 48
        }
      ]
    },
    {
      "cell_type": "code",
      "metadata": {
        "colab": {
          "base_uri": "https://localhost:8080/"
        },
        "id": "So7q0sseg2Qj",
        "outputId": "e26e1893-a4ea-4b52-f246-16105e6d06b2"
      },
      "source": [
        "const = model.intercept_\n",
        "const"
      ],
      "execution_count": 49,
      "outputs": [
        {
          "output_type": "execute_result",
          "data": {
            "text/plain": [
              "125.11920212765958"
            ]
          },
          "metadata": {},
          "execution_count": 49
        }
      ]
    },
    {
      "cell_type": "code",
      "metadata": {
        "colab": {
          "base_uri": "https://localhost:8080/"
        },
        "id": "LYFH408Sg3TS",
        "outputId": "0e4c8a0a-5f1d-4044-ee3b-b0401dfc4599"
      },
      "source": [
        "y_pred = model.predict(X) \n",
        "y_pred[0:5]"
      ],
      "execution_count": 50,
      "outputs": [
        {
          "output_type": "execute_result",
          "data": {
            "text/plain": [
              "array([126.04854592, 126.97788971, 127.9072335 , 128.83657729,\n",
              "       129.76592108])"
            ]
          },
          "metadata": {},
          "execution_count": 50
        }
      ]
    },
    {
      "cell_type": "code",
      "metadata": {
        "colab": {
          "base_uri": "https://localhost:8080/"
        },
        "id": "uNAqvdL0g54b",
        "outputId": "e5b1583d-626d-4384-96d6-ce43504ea82f"
      },
      "source": [
        "sst = (np.array([y-y.mean()])**2).sum()\n",
        "sse = (np.array([y-y_pred])**2).sum()\n",
        "ssr = (np.array([y_pred-y.mean()])**2).sum()\n",
        "R2 = 1 - sse/sst\n",
        "R2"
      ],
      "execution_count": 52,
      "outputs": [
        {
          "output_type": "execute_result",
          "data": {
            "text/plain": [
              "0.6899561843251006"
            ]
          },
          "metadata": {},
          "execution_count": 52
        }
      ]
    },
    {
      "cell_type": "markdown",
      "metadata": {
        "id": "jgEPRm1EhCsL"
      },
      "source": [
        "^коэф детерминации\n"
      ]
    },
    {
      "cell_type": "code",
      "metadata": {
        "colab": {
          "base_uri": "https://localhost:8080/"
        },
        "id": "S2lxX7qIhFaL",
        "outputId": "e1359f4c-fb16-4422-8684-b5ca2407bf21"
      },
      "source": [
        "MAPE = abs([y-y_pred]/y_pred).sum()*100/len(y)\n",
        "MAPE"
      ],
      "execution_count": 53,
      "outputs": [
        {
          "output_type": "execute_result",
          "data": {
            "text/plain": [
              "4.712733352791392"
            ]
          },
          "metadata": {},
          "execution_count": 53
        }
      ]
    },
    {
      "cell_type": "markdown",
      "metadata": {
        "id": "_RzvxUoWhOCV"
      },
      "source": [
        "средняя ошибка аппроксимации"
      ]
    },
    {
      "cell_type": "code",
      "metadata": {
        "colab": {
          "base_uri": "https://localhost:8080/"
        },
        "id": "HJYvZx-bhMOt",
        "outputId": "7a66fdc9-4041-4709-c537-549687c43a41"
      },
      "source": [
        "from sklearn.metrics import mean_squared_error\n",
        "mean_squared_error(y_pred,y)"
      ],
      "execution_count": 54,
      "outputs": [
        {
          "output_type": "execute_result",
          "data": {
            "text/plain": [
              "74.4846971763506"
            ]
          },
          "metadata": {},
          "execution_count": 54
        }
      ]
    },
    {
      "cell_type": "markdown",
      "metadata": {
        "id": "2v4ZBpGhhSUF"
      },
      "source": [
        "среднеквадратичная ошибка вычислений"
      ]
    }
  ]
}
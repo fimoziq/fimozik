{
  "nbformat": 4,
  "nbformat_minor": 0,
  "metadata": {
    "colab": {
      "name": "2.1.ipynb",
      "provenance": [],
      "authorship_tag": "ABX9TyMIItxVAnPHT5yjt/FDA9OR",
      "include_colab_link": true
    },
    "kernelspec": {
      "name": "python3",
      "display_name": "Python 3"
    },
    "language_info": {
      "name": "python"
    }
  },
  "cells": [
    {
      "cell_type": "markdown",
      "metadata": {
        "id": "view-in-github",
        "colab_type": "text"
      },
      "source": [
        "<a href=\"https://colab.research.google.com/github/fimoziq/unecozik/blob/main/2_1.ipynb\" target=\"_parent\"><img src=\"https://colab.research.google.com/assets/colab-badge.svg\" alt=\"Open In Colab\"/></a>"
      ]
    },
    {
      "cell_type": "code",
      "metadata": {
        "colab": {
          "base_uri": "https://localhost:8080/",
          "height": 238
        },
        "id": "m5s305IDoIbo",
        "outputId": "a5722019-64ee-47fc-b4cb-a0009696995b"
      },
      "source": [
        "from pandas import read_csv\n",
        "df = read_csv('_pythza2F.csv',parse_dates = True, index_col = 0,delimiter=',',decimal=',')\n",
        "df.head()"
      ],
      "execution_count": 1,
      "outputs": [
        {
          "output_type": "execute_result",
          "data": {
            "text/html": [
              "<div>\n",
              "<style scoped>\n",
              "    .dataframe tbody tr th:only-of-type {\n",
              "        vertical-align: middle;\n",
              "    }\n",
              "\n",
              "    .dataframe tbody tr th {\n",
              "        vertical-align: top;\n",
              "    }\n",
              "\n",
              "    .dataframe thead th {\n",
              "        text-align: right;\n",
              "    }\n",
              "</style>\n",
              "<table border=\"1\" class=\"dataframe\">\n",
              "  <thead>\n",
              "    <tr style=\"text-align: right;\">\n",
              "      <th></th>\n",
              "      <th>pr</th>\n",
              "    </tr>\n",
              "    <tr>\n",
              "      <th>d;</th>\n",
              "      <th></th>\n",
              "    </tr>\n",
              "  </thead>\n",
              "  <tbody>\n",
              "    <tr>\n",
              "      <th>2007-01-01</th>\n",
              "      <td>4.20</td>\n",
              "    </tr>\n",
              "    <tr>\n",
              "      <th>2007-02-01</th>\n",
              "      <td>3.93</td>\n",
              "    </tr>\n",
              "    <tr>\n",
              "      <th>2007-03-01</th>\n",
              "      <td>3.64</td>\n",
              "    </tr>\n",
              "    <tr>\n",
              "      <th>2007-04-01</th>\n",
              "      <td>3.53</td>\n",
              "    </tr>\n",
              "    <tr>\n",
              "      <th>2007-05-01</th>\n",
              "      <td>3.69</td>\n",
              "    </tr>\n",
              "  </tbody>\n",
              "</table>\n",
              "</div>"
            ],
            "text/plain": [
              "              pr\n",
              "d;              \n",
              "2007-01-01  4.20\n",
              "2007-02-01  3.93\n",
              "2007-03-01  3.64\n",
              "2007-04-01  3.53\n",
              "2007-05-01  3.69"
            ]
          },
          "metadata": {},
          "execution_count": 1
        }
      ]
    },
    {
      "cell_type": "markdown",
      "metadata": {
        "id": "nei6x3rSobWR"
      },
      "source": [
        "\"\"\"тренд-сезонная модель\"\"\"\n"
      ]
    },
    {
      "cell_type": "code",
      "metadata": {
        "colab": {
          "base_uri": "https://localhost:8080/",
          "height": 238
        },
        "id": "BoHzkD5Hoaas",
        "outputId": "95addf38-e8e8-41c9-90f0-f140784e4031"
      },
      "source": [
        "df_columns, df.columns = df.columns, ('y', )\n",
        "df_index, df.index.name = df.index.name, 'date'\n",
        "df.head()"
      ],
      "execution_count": 2,
      "outputs": [
        {
          "output_type": "execute_result",
          "data": {
            "text/html": [
              "<div>\n",
              "<style scoped>\n",
              "    .dataframe tbody tr th:only-of-type {\n",
              "        vertical-align: middle;\n",
              "    }\n",
              "\n",
              "    .dataframe tbody tr th {\n",
              "        vertical-align: top;\n",
              "    }\n",
              "\n",
              "    .dataframe thead th {\n",
              "        text-align: right;\n",
              "    }\n",
              "</style>\n",
              "<table border=\"1\" class=\"dataframe\">\n",
              "  <thead>\n",
              "    <tr style=\"text-align: right;\">\n",
              "      <th></th>\n",
              "      <th>y</th>\n",
              "    </tr>\n",
              "    <tr>\n",
              "      <th>date</th>\n",
              "      <th></th>\n",
              "    </tr>\n",
              "  </thead>\n",
              "  <tbody>\n",
              "    <tr>\n",
              "      <th>2007-01-01</th>\n",
              "      <td>4.20</td>\n",
              "    </tr>\n",
              "    <tr>\n",
              "      <th>2007-02-01</th>\n",
              "      <td>3.93</td>\n",
              "    </tr>\n",
              "    <tr>\n",
              "      <th>2007-03-01</th>\n",
              "      <td>3.64</td>\n",
              "    </tr>\n",
              "    <tr>\n",
              "      <th>2007-04-01</th>\n",
              "      <td>3.53</td>\n",
              "    </tr>\n",
              "    <tr>\n",
              "      <th>2007-05-01</th>\n",
              "      <td>3.69</td>\n",
              "    </tr>\n",
              "  </tbody>\n",
              "</table>\n",
              "</div>"
            ],
            "text/plain": [
              "               y\n",
              "date            \n",
              "2007-01-01  4.20\n",
              "2007-02-01  3.93\n",
              "2007-03-01  3.64\n",
              "2007-04-01  3.53\n",
              "2007-05-01  3.69"
            ]
          },
          "metadata": {},
          "execution_count": 2
        }
      ]
    },
    {
      "cell_type": "markdown",
      "metadata": {
        "id": "rZwjC9paorkN"
      },
      "source": [
        "\"\"\"float64!!!!!!!!!!!! delimiter=',' ^ decimal=','\"\"\"\n"
      ]
    },
    {
      "cell_type": "code",
      "metadata": {
        "id": "8cmZvgiRoqg2"
      },
      "source": [
        "import matplotlib as mpl\n",
        "import matplotlib.pyplot as plt\n",
        "\n",
        "fig, ax = plt.subplots(figsize = (10, 6))\n",
        "\n",
        "plt.xlabel(df_index)\n",
        "plt.ylabel(df_columns[0])\n",
        "\n",
        "ax.xaxis.set_major_locator(mpl.dates.YearLocator())\n",
        "ax.xaxis.set_major_formatter(mpl.dates.DateFormatter('%Y'))\n",
        "\n",
        "ax.plot(df['y'], marker = 'o', color = (0, 0, 0, 0), markerfacecolor = 'blue')\n",
        "    \n",
        "plt.show()"
      ],
      "execution_count": null,
      "outputs": []
    },
    {
      "cell_type": "code",
      "metadata": {
        "colab": {
          "base_uri": "https://localhost:8080/",
          "height": 238
        },
        "id": "0P0_0XtloyVf",
        "outputId": "0a677f09-2f9c-4703-f176-ab93df8a9d38"
      },
      "source": [
        "import numpy as np\n",
        "df['t'] = np.arange(1, len(df) + 1)\n",
        "df.head()"
      ],
      "execution_count": 6,
      "outputs": [
        {
          "output_type": "execute_result",
          "data": {
            "text/html": [
              "<div>\n",
              "<style scoped>\n",
              "    .dataframe tbody tr th:only-of-type {\n",
              "        vertical-align: middle;\n",
              "    }\n",
              "\n",
              "    .dataframe tbody tr th {\n",
              "        vertical-align: top;\n",
              "    }\n",
              "\n",
              "    .dataframe thead th {\n",
              "        text-align: right;\n",
              "    }\n",
              "</style>\n",
              "<table border=\"1\" class=\"dataframe\">\n",
              "  <thead>\n",
              "    <tr style=\"text-align: right;\">\n",
              "      <th></th>\n",
              "      <th>y</th>\n",
              "      <th>t</th>\n",
              "    </tr>\n",
              "    <tr>\n",
              "      <th>date</th>\n",
              "      <th></th>\n",
              "      <th></th>\n",
              "    </tr>\n",
              "  </thead>\n",
              "  <tbody>\n",
              "    <tr>\n",
              "      <th>2007-01-01</th>\n",
              "      <td>4.20</td>\n",
              "      <td>1</td>\n",
              "    </tr>\n",
              "    <tr>\n",
              "      <th>2007-02-01</th>\n",
              "      <td>3.93</td>\n",
              "      <td>2</td>\n",
              "    </tr>\n",
              "    <tr>\n",
              "      <th>2007-03-01</th>\n",
              "      <td>3.64</td>\n",
              "      <td>3</td>\n",
              "    </tr>\n",
              "    <tr>\n",
              "      <th>2007-04-01</th>\n",
              "      <td>3.53</td>\n",
              "      <td>4</td>\n",
              "    </tr>\n",
              "    <tr>\n",
              "      <th>2007-05-01</th>\n",
              "      <td>3.69</td>\n",
              "      <td>5</td>\n",
              "    </tr>\n",
              "  </tbody>\n",
              "</table>\n",
              "</div>"
            ],
            "text/plain": [
              "               y  t\n",
              "date               \n",
              "2007-01-01  4.20  1\n",
              "2007-02-01  3.93  2\n",
              "2007-03-01  3.64  3\n",
              "2007-04-01  3.53  4\n",
              "2007-05-01  3.69  5"
            ]
          },
          "metadata": {},
          "execution_count": 6
        }
      ]
    },
    {
      "cell_type": "code",
      "metadata": {
        "colab": {
          "base_uri": "https://localhost:8080/"
        },
        "id": "ATkYwREco0S7",
        "outputId": "1fdaee8c-a510-4f20-eaf4-179dfa38cf50"
      },
      "source": [
        "import numpy as np\n",
        "coef = np.polyfit(df['t'], df['y'], deg = 1)\n",
        "coef"
      ],
      "execution_count": 7,
      "outputs": [
        {
          "output_type": "execute_result",
          "data": {
            "text/plain": [
              "array([0.0066815 , 4.07421986])"
            ]
          },
          "metadata": {},
          "execution_count": 7
        }
      ]
    },
    {
      "cell_type": "code",
      "metadata": {
        "colab": {
          "base_uri": "https://localhost:8080/"
        },
        "id": "fmzJs0NLo2WI",
        "outputId": "4813e213-2233-4654-c0c7-6bfdfdbbf485"
      },
      "source": [
        "df['y^'] = coef[0] * df['t'] + coef[1]\n",
        "df['y^'].head()"
      ],
      "execution_count": 9,
      "outputs": [
        {
          "output_type": "execute_result",
          "data": {
            "text/plain": [
              "date\n",
              "2007-01-01    4.080901\n",
              "2007-02-01    4.087583\n",
              "2007-03-01    4.094264\n",
              "2007-04-01    4.100946\n",
              "2007-05-01    4.107627\n",
              "Name: y^, dtype: float64"
            ]
          },
          "metadata": {},
          "execution_count": 9
        }
      ]
    },
    {
      "cell_type": "code",
      "metadata": {
        "colab": {
          "base_uri": "https://localhost:8080/",
          "height": 442
        },
        "id": "yZd8blDTo3pv",
        "outputId": "57b541cb-f3da-4c18-96f7-69bf60cad031"
      },
      "source": [
        "fig, ax = plt.subplots(figsize = (12, 7))\n",
        "\n",
        "plt.xlabel(df_index)\n",
        "plt.ylabel(df_columns[0])\n",
        "\n",
        "ax.plot(df['y^'], color = 'orange')\n",
        "\n",
        "ax.plot(df['y'], marker = 'o', color = (0, 0, 0, 0), markerfacecolor = 'blue')\n",
        "\n",
        "ax.xaxis.set_major_locator(mpl.dates.YearLocator())\n",
        "ax.xaxis.set_major_formatter(mpl.dates.DateFormatter('%Y'))\n",
        "    \n",
        "plt.show()"
      ],
      "execution_count": 10,
      "outputs": [
        {
          "output_type": "display_data",
          "data": {
            "image/png": "[encoded data removed]",
            "text/plain": [
              "<Figure size 864x504 with 1 Axes>"
            ]
          },
          "metadata": {
            "needs_background": "light"
          }
        }
      ]
    },
    {
      "cell_type": "code",
      "metadata": {
        "colab": {
          "base_uri": "https://localhost:8080/",
          "height": 388
        },
        "id": "P8kpyqnCo6Tm",
        "outputId": "741c3f78-80be-4dd7-fc33-fb5742945e0a"
      },
      "source": [
        "from pandas.plotting import autocorrelation_plot\n",
        "\n",
        "fig, ax = plt.subplots(figsize = (10, 6))\n",
        "\n",
        "autocorrelation_plot(df['y'], ax = ax, marker = '.')\n",
        "ax.xaxis.set_major_locator(plt.MultipleLocator(6))\n",
        "ax.set_xlim(0, 48)\n",
        "\n",
        "plt.show()"
      ],
      "execution_count": 11,
      "outputs": [
        {
          "output_type": "display_data",
          "data": {
            "image/png": "[encoded data removed]",
            "text/plain": [
              "<Figure size 720x432 with 1 Axes>"
            ]
          },
          "metadata": {
            "needs_background": "light"
          }
        }
      ]
    },
    {
      "cell_type": "markdown",
      "metadata": {
        "id": "dTz2b7Y1o9av"
      },
      "source": [
        "\"\"\"по графику автокорреляции для ряда данных можно предположить, что лаг **сезонности** равен 12\"\"\"\n"
      ]
    },
    {
      "cell_type": "code",
      "metadata": {
        "colab": {
          "base_uri": "https://localhost:8080/",
          "height": 426
        },
        "id": "7gWkiaIEo_II",
        "outputId": "d4938b80-ad88-4ebf-ea01-4107ab37dbd3"
      },
      "source": [
        "import pandas as pd\n",
        "s = 12\n",
        "ses = (df['y']-df['y^'])\n",
        "ses = np.array([np.mean(ses.iloc[k::s]) for k in range(s)])\n",
        "ses = pd.DataFrame(ses - np.mean(ses), index = np.arange(1, s + 1))\n",
        "ses"
      ],
      "execution_count": 12,
      "outputs": [
        {
          "output_type": "execute_result",
          "data": {
            "text/html": [
              "<div>\n",
              "<style scoped>\n",
              "    .dataframe tbody tr th:only-of-type {\n",
              "        vertical-align: middle;\n",
              "    }\n",
              "\n",
              "    .dataframe tbody tr th {\n",
              "        vertical-align: top;\n",
              "    }\n",
              "\n",
              "    .dataframe thead th {\n",
              "        text-align: right;\n",
              "    }\n",
              "</style>\n",
              "<table border=\"1\" class=\"dataframe\">\n",
              "  <thead>\n",
              "    <tr style=\"text-align: right;\">\n",
              "      <th></th>\n",
              "      <th>0</th>\n",
              "    </tr>\n",
              "  </thead>\n",
              "  <tbody>\n",
              "    <tr>\n",
              "      <th>1</th>\n",
              "      <td>0.031332</td>\n",
              "    </tr>\n",
              "    <tr>\n",
              "      <th>2</th>\n",
              "      <td>-0.257850</td>\n",
              "    </tr>\n",
              "    <tr>\n",
              "      <th>3</th>\n",
              "      <td>-0.587031</td>\n",
              "    </tr>\n",
              "    <tr>\n",
              "      <th>4</th>\n",
              "      <td>-0.621213</td>\n",
              "    </tr>\n",
              "    <tr>\n",
              "      <th>5</th>\n",
              "      <td>-0.552894</td>\n",
              "    </tr>\n",
              "    <tr>\n",
              "      <th>6</th>\n",
              "      <td>-0.359576</td>\n",
              "    </tr>\n",
              "    <tr>\n",
              "      <th>7</th>\n",
              "      <td>-0.021257</td>\n",
              "    </tr>\n",
              "    <tr>\n",
              "      <th>8</th>\n",
              "      <td>0.364561</td>\n",
              "    </tr>\n",
              "    <tr>\n",
              "      <th>9</th>\n",
              "      <td>0.575380</td>\n",
              "    </tr>\n",
              "    <tr>\n",
              "      <th>10</th>\n",
              "      <td>0.611198</td>\n",
              "    </tr>\n",
              "    <tr>\n",
              "      <th>11</th>\n",
              "      <td>0.532017</td>\n",
              "    </tr>\n",
              "    <tr>\n",
              "      <th>12</th>\n",
              "      <td>0.285335</td>\n",
              "    </tr>\n",
              "  </tbody>\n",
              "</table>\n",
              "</div>"
            ],
            "text/plain": [
              "           0\n",
              "1   0.031332\n",
              "2  -0.257850\n",
              "3  -0.587031\n",
              "4  -0.621213\n",
              "5  -0.552894\n",
              "6  -0.359576\n",
              "7  -0.021257\n",
              "8   0.364561\n",
              "9   0.575380\n",
              "10  0.611198\n",
              "11  0.532017\n",
              "12  0.285335"
            ]
          },
          "metadata": {},
          "execution_count": 12
        }
      ]
    },
    {
      "cell_type": "code",
      "metadata": {
        "colab": {
          "base_uri": "https://localhost:8080/",
          "height": 374
        },
        "id": "csaKQqOLpA9B",
        "outputId": "72d65b84-dffa-46b7-ae0c-9da0a6931ef8"
      },
      "source": [
        "fig, ax = plt.subplots(figsize = (10, 6))\n",
        "ax.set_xlim(0, s + 1)\n",
        "plt.plot(ses)\n",
        "plt.show()"
      ],
      "execution_count": 13,
      "outputs": [
        {
          "output_type": "display_data",
          "data": {
            "image/png": "[encoded data removed]",
            "text/plain": [
              "<Figure size 720x432 with 1 Axes>"
            ]
          },
          "metadata": {
            "needs_background": "light"
          }
        }
      ]
    },
    {
      "cell_type": "code",
      "metadata": {
        "id": "gaLCyUwEpDML"
      },
      "source": [
        "tmp = pd.concat([ses for _ in range(4)], ignore_index = True)\n",
        "tmp.index = df.index"
      ],
      "execution_count": 14,
      "outputs": []
    },
    {
      "cell_type": "code",
      "metadata": {
        "id": "_67VQlJApEx2"
      },
      "source": [
        "df['s'] = tmp\n",
        "df['y^s'] = df['y^'] + df['s']\n"
      ],
      "execution_count": 15,
      "outputs": []
    },
    {
      "cell_type": "code",
      "metadata": {
        "colab": {
          "base_uri": "https://localhost:8080/",
          "height": 442
        },
        "id": "g_DN8LwipGtA",
        "outputId": "cb4d211e-7c14-4f45-838c-4581b64b511c"
      },
      "source": [
        "fig, ax = plt.subplots(figsize = (12, 7))\n",
        "\n",
        "plt.xlabel(df_index)\n",
        "plt.ylabel(df_columns[0])\n",
        "\n",
        "ax.plot(df['y^s'], color = 'orange')\n",
        "\n",
        "ax.plot(df['y'], marker = 'o', color = (0, 0, 0, 0), markerfacecolor = 'blue')\n",
        "\n",
        "ax.xaxis.set_major_locator(mpl.dates.YearLocator())\n",
        "ax.xaxis.set_major_formatter(mpl.dates.DateFormatter('%Y'))\n",
        "    \n",
        "plt.show()"
      ],
      "execution_count": 16,
      "outputs": [
        {
          "output_type": "display_data",
          "data": {
            "image/png": "[encoded data removed]",
            "text/plain": [
              "<Figure size 864x504 with 1 Axes>"
            ]
          },
          "metadata": {
            "needs_background": "light"
          }
        }
      ]
    },
    {
      "cell_type": "code",
      "metadata": {
        "id": "fgUSQKDmpJWK"
      },
      "source": [
        "n = len(df)\n",
        "\n",
        "x = np.arange(48, 60)\n",
        "\n",
        "df_fv = pd.DataFrame({'y' : coef[0] * x + coef[1] + df['s'].iloc[:12].array}, index = pd.date_range(start = df.index[-1] + np.timedelta64(1, 'M'), \n",
        "                                    end   = df.index[-1] + np.timedelta64(13, 'M'), \n",
        "                                    freq  = 'MS'))"
      ],
      "execution_count": 17,
      "outputs": []
    },
    {
      "cell_type": "markdown",
      "metadata": {
        "id": "aTOXLVBWpK5_"
      },
      "source": [
        "\"\"\"точечный и интервальный прогноз>\"\"\"\n"
      ]
    },
    {
      "cell_type": "code",
      "metadata": {
        "colab": {
          "base_uri": "https://localhost:8080/"
        },
        "id": "gPZUIcmRpKIj",
        "outputId": "98e43e87-b318-44dc-960d-67f946bc5403"
      },
      "source": [
        "variance = np.sum(np.power(df['y'] - df['y^s'], 2)) / (n-1)\n",
        "sigma =np.power(variance,0.5)\n",
        "sigma"
      ],
      "execution_count": 18,
      "outputs": [
        {
          "output_type": "execute_result",
          "data": {
            "text/plain": [
              "0.09807964224129358"
            ]
          },
          "metadata": {},
          "execution_count": 18
        }
      ]
    },
    {
      "cell_type": "code",
      "metadata": {
        "colab": {
          "base_uri": "https://localhost:8080/"
        },
        "id": "Q0eSTy5OpNFH",
        "outputId": "631de531-67b2-4a60-d69f-6146c56e7c27"
      },
      "source": [
        "from scipy.stats import t\n",
        "tstud=t.interval(0.95, len(df)-1)\n",
        "list(tstud)"
      ],
      "execution_count": 19,
      "outputs": [
        {
          "output_type": "execute_result",
          "data": {
            "text/plain": [
              "[-2.0117405104757546, 2.0117405104757546]"
            ]
          },
          "metadata": {},
          "execution_count": 19
        }
      ]
    },
    {
      "cell_type": "code",
      "metadata": {
        "colab": {
          "base_uri": "https://localhost:8080/"
        },
        "id": "jmlS8ZVdpOQs",
        "outputId": "e9aa264d-c5cc-42cd-9de1-83b40fadfe89"
      },
      "source": [
        "lower=list(tstud)[0]*sigma\n",
        "lower"
      ],
      "execution_count": 20,
      "outputs": [
        {
          "output_type": "execute_result",
          "data": {
            "text/plain": [
              "-0.19731078954977932"
            ]
          },
          "metadata": {},
          "execution_count": 20
        }
      ]
    },
    {
      "cell_type": "code",
      "metadata": {
        "colab": {
          "base_uri": "https://localhost:8080/"
        },
        "id": "dIzVXFFepQEw",
        "outputId": "d4ae42df-b26f-4f46-d360-4f7d766b06bc"
      },
      "source": [
        "upper=list(tstud)[1]*sigma\n",
        "upper\n"
      ],
      "execution_count": 22,
      "outputs": [
        {
          "output_type": "execute_result",
          "data": {
            "text/plain": [
              "0.19731078954977932"
            ]
          },
          "metadata": {},
          "execution_count": 22
        }
      ]
    },
    {
      "cell_type": "code",
      "metadata": {
        "id": "89s5s6qKpSUy"
      },
      "source": [
        "df_fv['y-'] = df_fv['y'] + lower\n",
        "df_fv['y+'] = df_fv['y'] + upper"
      ],
      "execution_count": 23,
      "outputs": []
    },
    {
      "cell_type": "code",
      "metadata": {
        "colab": {
          "base_uri": "https://localhost:8080/",
          "height": 458
        },
        "id": "40Aj7yx8pUaR",
        "outputId": "f876a8c6-b579-4075-d13a-75eeccb53dfe"
      },
      "source": [
        "fig, ax = plt.subplots(figsize = (12, 7))\n",
        "\n",
        "plt.title('Доверительные интервалы прогноза с вероятностью 0.95')\n",
        "plt.xlabel(df_index)\n",
        "plt.ylabel(df_columns[0])\n",
        "\n",
        "ax.plot(df_fv['y-'], color = 'green')\n",
        "ax.plot(df_fv['y'],  color = 'orange')\n",
        "ax.plot(df_fv['y+'], color = 'green')\n",
        "\n",
        "ax.plot(df['y'], marker = 'o', color = (0, 0, 0, 0), markerfacecolor = 'blue')\n",
        "ax.plot(df['y^s'], color = 'orange')\n",
        "\n",
        "ax.xaxis.set_major_locator(mpl.dates.YearLocator())\n",
        "ax.xaxis.set_major_formatter(mpl.dates.DateFormatter('%Y'))\n",
        "    \n",
        "plt.show()"
      ],
      "execution_count": 24,
      "outputs": [
        {
          "output_type": "display_data",
          "data": {
            "image/png": "[encoded data removed]",
            "text/plain": [
              "<Figure size 864x504 with 1 Axes>"
            ]
          },
          "metadata": {
            "needs_background": "light"
          }
        }
      ]
    },
    {
      "cell_type": "code",
      "metadata": {
        "colab": {
          "base_uri": "https://localhost:8080/"
        },
        "id": "HV8In3lnpVke",
        "outputId": "f3ca213d-31d7-471a-d2ee-5bfd840ee41e"
      },
      "source": [
        "1 - np.sum(np.power(df['y'] - df['y^s'], 2)) / np.sum(np.power(df['y'] - np.mean(df['y']), 2))\n"
      ],
      "execution_count": 25,
      "outputs": [
        {
          "output_type": "execute_result",
          "data": {
            "text/plain": [
              "0.9573670610356475"
            ]
          },
          "metadata": {},
          "execution_count": 25
        }
      ]
    },
    {
      "cell_type": "markdown",
      "metadata": {
        "id": "hoI5ai4hpXHo"
      },
      "source": [
        "\"\"\"коэф. детерминации \"\"\"\n"
      ]
    },
    {
      "cell_type": "markdown",
      "metadata": {
        "id": "6yXn8ycNN8rs"
      },
      "source": [
        "дарбин уотсон"
      ]
    },
    {
      "cell_type": "code",
      "metadata": {
        "id": "fVQL6Mz6N-mU"
      },
      "source": [
        "e=df['s']"
      ],
      "execution_count": 40,
      "outputs": []
    },
    {
      "cell_type": "code",
      "metadata": {
        "id": "KGLol7zSPnVj",
        "outputId": "25f1920b-3b08-4f3b-b44d-d8b49c28e296",
        "colab": {
          "base_uri": "https://localhost:8080/"
        }
      },
      "source": [
        "df.info()"
      ],
      "execution_count": 36,
      "outputs": [
        {
          "output_type": "stream",
          "name": "stdout",
          "text": [
            "<class 'pandas.core.frame.DataFrame'>\n",
            "DatetimeIndex: 48 entries, 2007-01-01 to 2010-12-01\n",
            "Data columns (total 5 columns):\n",
            " #   Column  Non-Null Count  Dtype  \n",
            "---  ------  --------------  -----  \n",
            " 0   y       48 non-null     float64\n",
            " 1   t       48 non-null     int64  \n",
            " 2   y^      48 non-null     float64\n",
            " 3   s       48 non-null     float64\n",
            " 4   y^s     48 non-null     float64\n",
            "dtypes: float64(4), int64(1)\n",
            "memory usage: 2.2 KB\n"
          ]
        }
      ]
    },
    {
      "cell_type": "code",
      "metadata": {
        "id": "JrSeAxd_TuhU",
        "outputId": "f7886ae8-b706-408f-ca8b-bd28d6d508ff",
        "colab": {
          "base_uri": "https://localhost:8080/"
        }
      },
      "source": [
        "e2=np.multiply(e,e)\n",
        "e2"
      ],
      "execution_count": 83,
      "outputs": [
        {
          "output_type": "execute_result",
          "data": {
            "text/plain": [
              "date\n",
              "2007-01-01    0.000982\n",
              "2007-02-01    0.066487\n",
              "2007-03-01    0.344606\n",
              "2007-04-01    0.385905\n",
              "2007-05-01    0.305692\n",
              "2007-06-01    0.129295\n",
              "2007-07-01    0.000452\n",
              "2007-08-01    0.132905\n",
              "2007-09-01    0.331062\n",
              "2007-10-01    0.373563\n",
              "2007-11-01    0.283042\n",
              "2007-12-01    0.081416\n",
              "2008-01-01    0.000982\n",
              "2008-02-01    0.066487\n",
              "2008-03-01    0.344606\n",
              "2008-04-01    0.385905\n",
              "2008-05-01    0.305692\n",
              "2008-06-01    0.129295\n",
              "2008-07-01    0.000452\n",
              "2008-08-01    0.132905\n",
              "2008-09-01    0.331062\n",
              "2008-10-01    0.373563\n",
              "2008-11-01    0.283042\n",
              "2008-12-01    0.081416\n",
              "2009-01-01    0.000982\n",
              "2009-02-01    0.066487\n",
              "2009-03-01    0.344606\n",
              "2009-04-01    0.385905\n",
              "2009-05-01    0.305692\n",
              "2009-06-01    0.129295\n",
              "2009-07-01    0.000452\n",
              "2009-08-01    0.132905\n",
              "2009-09-01    0.331062\n",
              "2009-10-01    0.373563\n",
              "2009-11-01    0.283042\n",
              "2009-12-01    0.081416\n",
              "2010-01-01    0.000982\n",
              "2010-02-01    0.066487\n",
              "2010-03-01    0.344606\n",
              "2010-04-01    0.385905\n",
              "2010-05-01    0.305692\n",
              "2010-06-01    0.129295\n",
              "2010-07-01    0.000452\n",
              "2010-08-01    0.132905\n",
              "2010-09-01    0.331062\n",
              "2010-10-01    0.373563\n",
              "2010-11-01    0.283042\n",
              "2010-12-01    0.081416\n",
              "Name: s, dtype: float64"
            ]
          },
          "metadata": {},
          "execution_count": 83
        }
      ]
    },
    {
      "cell_type": "code",
      "metadata": {
        "id": "obx8dsq5W-BI",
        "outputId": "f73d1de7-94d9-46c9-a759-b767a3f82f22",
        "colab": {
          "base_uri": "https://localhost:8080/"
        }
      },
      "source": [
        "e2sum=sum(e2)\n",
        "e2sum"
      ],
      "execution_count": 98,
      "outputs": [
        {
          "output_type": "execute_result",
          "data": {
            "text/plain": [
              "9.741623232231143"
            ]
          },
          "metadata": {},
          "execution_count": 98
        }
      ]
    },
    {
      "cell_type": "code",
      "metadata": {
        "id": "j_ZaJLSvVoQ2"
      },
      "source": [
        "e2square = []\n",
        "for i in range(1,len(e2)):\n",
        "    x = (e2[i] - e2[i-1])**2\n",
        "    e2square.append(x)"
      ],
      "execution_count": 92,
      "outputs": []
    },
    {
      "cell_type": "code",
      "metadata": {
        "id": "wj4s4vrnVRdx",
        "outputId": "4798f040-4a83-432c-e9b3-26dc42754488",
        "colab": {
          "base_uri": "https://localhost:8080/"
        }
      },
      "source": [
        "e2square"
      ],
      "execution_count": 93,
      "outputs": [
        {
          "output_type": "execute_result",
          "data": {
            "text/plain": [
              "[0.004290892585033088,\n",
              " 0.07735034523119011,\n",
              " 0.0017056574619962988,\n",
              " 0.006434165218192279,\n",
              " 0.03111604026848085,\n",
              " 0.01660050864404139,\n",
              " 0.017543771527735355,\n",
              " 0.03926614797254567,\n",
              " 0.0018063714505922315,\n",
              " 0.0081941335158859,\n",
              " 0.04065285484039333,\n",
              " 0.0064696980679828184,\n",
              " 0.004290892585033088,\n",
              " 0.07735034523119011,\n",
              " 0.0017056574619962988,\n",
              " 0.006434165218192279,\n",
              " 0.03111604026848085,\n",
              " 0.01660050864404139,\n",
              " 0.017543771527735355,\n",
              " 0.03926614797254567,\n",
              " 0.0018063714505922315,\n",
              " 0.0081941335158859,\n",
              " 0.04065285484039333,\n",
              " 0.0064696980679828184,\n",
              " 0.004290892585033088,\n",
              " 0.07735034523119011,\n",
              " 0.0017056574619962988,\n",
              " 0.006434165218192279,\n",
              " 0.03111604026848085,\n",
              " 0.01660050864404139,\n",
              " 0.017543771527735355,\n",
              " 0.03926614797254567,\n",
              " 0.0018063714505922315,\n",
              " 0.0081941335158859,\n",
              " 0.04065285484039333,\n",
              " 0.0064696980679828184,\n",
              " 0.004290892585033088,\n",
              " 0.07735034523119011,\n",
              " 0.0017056574619962988,\n",
              " 0.006434165218192279,\n",
              " 0.03111604026848085,\n",
              " 0.01660050864404139,\n",
              " 0.017543771527735355,\n",
              " 0.03926614797254567,\n",
              " 0.0018063714505922315,\n",
              " 0.0081941335158859,\n",
              " 0.04065285484039333]"
            ]
          },
          "metadata": {},
          "execution_count": 93
        }
      ]
    },
    {
      "cell_type": "code",
      "metadata": {
        "id": "_PTIsOlMWd44",
        "outputId": "07838082-cb12-490d-f49d-d531164c4c5e",
        "colab": {
          "base_uri": "https://localhost:8080/"
        }
      },
      "source": [
        "e2squaresum=sum(e2square)\n",
        "e2squaresum"
      ],
      "execution_count": 95,
      "outputs": [
        {
          "output_type": "execute_result",
          "data": {
            "text/plain": [
              "0.9992526490682946"
            ]
          },
          "metadata": {},
          "execution_count": 95
        }
      ]
    },
    {
      "cell_type": "code",
      "metadata": {
        "id": "cMPyi0H_WtuQ",
        "outputId": "e7eed763-6cbd-4f6a-aac8-32eae0a2518e",
        "colab": {
          "base_uri": "https://localhost:8080/"
        }
      },
      "source": [
        "re=e2squaresum/e2sum\n",
        "re"
      ],
      "execution_count": 100,
      "outputs": [
        {
          "output_type": "execute_result",
          "data": {
            "text/plain": [
              "0.10257557957714546"
            ]
          },
          "metadata": {},
          "execution_count": 100
        }
      ]
    },
    {
      "cell_type": "code",
      "metadata": {
        "id": "YhntjxfSXbTz",
        "outputId": "9f592b9d-1df9-4cab-e888-33f266e0fddd",
        "colab": {
          "base_uri": "https://localhost:8080/"
        }
      },
      "source": [
        "DW=2*(1-re)\n",
        "DW"
      ],
      "execution_count": 101,
      "outputs": [
        {
          "output_type": "execute_result",
          "data": {
            "text/plain": [
              "1.794848840845709"
            ]
          },
          "metadata": {},
          "execution_count": 101
        }
      ]
    }
  ]
}
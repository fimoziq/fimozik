{
  "nbformat": 4,
  "nbformat_minor": 0,
  "metadata": {
    "colab": {
      "name": "var2.ipynb",
      "provenance": [],
      "collapsed_sections": [],
      "authorship_tag": "ABX9TyOQrD1OhDGyHdevGhZ0Gr3o",
      "include_colab_link": true
    },
    "kernelspec": {
      "name": "python3",
      "display_name": "Python 3"
    },
    "language_info": {
      "name": "python"
    }
  },
  "cells": [
    {
      "cell_type": "markdown",
      "metadata": {
        "id": "view-in-github",
        "colab_type": "text"
      },
      "source": [
        "<a href=\"https://colab.research.google.com/github/fimoziq/fimozik/blob/main/var2.ipynb\" target=\"_parent\"><img src=\"https://colab.research.google.com/assets/colab-badge.svg\" alt=\"Open In Colab\"/></a>"
      ]
    },
    {
      "cell_type": "code",
      "metadata": {
        "colab": {
          "base_uri": "https://localhost:8080/",
          "height": 238
        },
        "id": "l4fTBCjaRVVC",
        "outputId": "d1f66abf-8ff2-4878-d1fe-ff79e8212290"
      },
      "source": [
        "from pandas import read_csv\n",
        "df = read_csv('_pythza2F.csv',parse_dates = True, index_col = 0,delimiter=',',decimal=',')\n",
        "df.head()"
      ],
      "execution_count": 49,
      "outputs": [
        {
          "output_type": "execute_result",
          "data": {
            "text/html": [
              "<div>\n",
              "<style scoped>\n",
              "    .dataframe tbody tr th:only-of-type {\n",
              "        vertical-align: middle;\n",
              "    }\n",
              "\n",
              "    .dataframe tbody tr th {\n",
              "        vertical-align: top;\n",
              "    }\n",
              "\n",
              "    .dataframe thead th {\n",
              "        text-align: right;\n",
              "    }\n",
              "</style>\n",
              "<table border=\"1\" class=\"dataframe\">\n",
              "  <thead>\n",
              "    <tr style=\"text-align: right;\">\n",
              "      <th></th>\n",
              "      <th>pr</th>\n",
              "      <th>fp</th>\n",
              "    </tr>\n",
              "    <tr>\n",
              "      <th>d;</th>\n",
              "      <th></th>\n",
              "      <th></th>\n",
              "    </tr>\n",
              "  </thead>\n",
              "  <tbody>\n",
              "    <tr>\n",
              "      <th>2007-01-01</th>\n",
              "      <td>4.20</td>\n",
              "      <td>0</td>\n",
              "    </tr>\n",
              "    <tr>\n",
              "      <th>2007-02-01</th>\n",
              "      <td>3.93</td>\n",
              "      <td>1</td>\n",
              "    </tr>\n",
              "    <tr>\n",
              "      <th>2007-03-01</th>\n",
              "      <td>3.64</td>\n",
              "      <td>1</td>\n",
              "    </tr>\n",
              "    <tr>\n",
              "      <th>2007-04-01</th>\n",
              "      <td>3.53</td>\n",
              "      <td>1</td>\n",
              "    </tr>\n",
              "    <tr>\n",
              "      <th>2007-05-01</th>\n",
              "      <td>3.69</td>\n",
              "      <td>1</td>\n",
              "    </tr>\n",
              "  </tbody>\n",
              "</table>\n",
              "</div>"
            ],
            "text/plain": [
              "              pr  fp\n",
              "d;                  \n",
              "2007-01-01  4.20   0\n",
              "2007-02-01  3.93   1\n",
              "2007-03-01  3.64   1\n",
              "2007-04-01  3.53   1\n",
              "2007-05-01  3.69   1"
            ]
          },
          "metadata": {},
          "execution_count": 49
        }
      ]
    },
    {
      "cell_type": "markdown",
      "metadata": {
        "id": "atTVq7BxTsXS"
      },
      "source": [
        "тренд-сезонная модель"
      ]
    },
    {
      "cell_type": "code",
      "metadata": {
        "colab": {
          "base_uri": "https://localhost:8080/"
        },
        "id": "resGlzC-Ryhl",
        "outputId": "90e71929-f79a-409e-9a32-a6cc42790480"
      },
      "source": [
        "df.info()"
      ],
      "execution_count": 50,
      "outputs": [
        {
          "output_type": "stream",
          "name": "stdout",
          "text": [
            "<class 'pandas.core.frame.DataFrame'>\n",
            "DatetimeIndex: 48 entries, 2007-01-01 to 2010-12-01\n",
            "Data columns (total 2 columns):\n",
            " #   Column  Non-Null Count  Dtype  \n",
            "---  ------  --------------  -----  \n",
            " 0   pr      48 non-null     float64\n",
            " 1   fp      48 non-null     int64  \n",
            "dtypes: float64(1), int64(1)\n",
            "memory usage: 1.1 KB\n"
          ]
        }
      ]
    },
    {
      "cell_type": "markdown",
      "metadata": {
        "id": "5vjqFZ6aTFFl"
      },
      "source": [
        "float64!!!!!!!!!!!! delimiter=',' ^ decimal=','"
      ]
    },
    {
      "cell_type": "code",
      "metadata": {
        "colab": {
          "base_uri": "https://localhost:8080/",
          "height": 238
        },
        "id": "zYGEEUt-R0HJ",
        "outputId": "dff1136a-4189-462c-f27f-e0bef6a0183d"
      },
      "source": [
        "df_columns, df.columns = df.columns, ('y', 'ymaneken' )\n",
        "df_index, df.index.name = df.index.name, 'date'\n",
        "df.head()"
      ],
      "execution_count": 51,
      "outputs": [
        {
          "output_type": "execute_result",
          "data": {
            "text/html": [
              "<div>\n",
              "<style scoped>\n",
              "    .dataframe tbody tr th:only-of-type {\n",
              "        vertical-align: middle;\n",
              "    }\n",
              "\n",
              "    .dataframe tbody tr th {\n",
              "        vertical-align: top;\n",
              "    }\n",
              "\n",
              "    .dataframe thead th {\n",
              "        text-align: right;\n",
              "    }\n",
              "</style>\n",
              "<table border=\"1\" class=\"dataframe\">\n",
              "  <thead>\n",
              "    <tr style=\"text-align: right;\">\n",
              "      <th></th>\n",
              "      <th>y</th>\n",
              "      <th>ymaneken</th>\n",
              "    </tr>\n",
              "    <tr>\n",
              "      <th>date</th>\n",
              "      <th></th>\n",
              "      <th></th>\n",
              "    </tr>\n",
              "  </thead>\n",
              "  <tbody>\n",
              "    <tr>\n",
              "      <th>2007-01-01</th>\n",
              "      <td>4.20</td>\n",
              "      <td>0</td>\n",
              "    </tr>\n",
              "    <tr>\n",
              "      <th>2007-02-01</th>\n",
              "      <td>3.93</td>\n",
              "      <td>1</td>\n",
              "    </tr>\n",
              "    <tr>\n",
              "      <th>2007-03-01</th>\n",
              "      <td>3.64</td>\n",
              "      <td>1</td>\n",
              "    </tr>\n",
              "    <tr>\n",
              "      <th>2007-04-01</th>\n",
              "      <td>3.53</td>\n",
              "      <td>1</td>\n",
              "    </tr>\n",
              "    <tr>\n",
              "      <th>2007-05-01</th>\n",
              "      <td>3.69</td>\n",
              "      <td>1</td>\n",
              "    </tr>\n",
              "  </tbody>\n",
              "</table>\n",
              "</div>"
            ],
            "text/plain": [
              "               y  ymaneken\n",
              "date                      \n",
              "2007-01-01  4.20         0\n",
              "2007-02-01  3.93         1\n",
              "2007-03-01  3.64         1\n",
              "2007-04-01  3.53         1\n",
              "2007-05-01  3.69         1"
            ]
          },
          "metadata": {},
          "execution_count": 51
        }
      ]
    },
    {
      "cell_type": "code",
      "metadata": {
        "colab": {
          "base_uri": "https://localhost:8080/",
          "height": 388
        },
        "id": "_S_863c6TTIJ",
        "outputId": "10313c6b-ad53-4943-e537-efcf7b530ac6"
      },
      "source": [
        "import matplotlib as mpl\n",
        "import matplotlib.pyplot as plt\n",
        "\n",
        "fig, ax = plt.subplots(figsize = (10, 6))\n",
        "\n",
        "plt.xlabel(df_index)\n",
        "plt.ylabel(df_columns[0])\n",
        "\n",
        "ax.xaxis.set_major_locator(mpl.dates.YearLocator())\n",
        "ax.xaxis.set_major_formatter(mpl.dates.DateFormatter('%Y'))\n",
        "\n",
        "ax.plot(df['y'], marker = 'o', color = (0, 0, 0, 0), markerfacecolor = 'blue')\n",
        "    \n",
        "plt.show()"
      ],
      "execution_count": 52,
      "outputs": [
        {
          "output_type": "display_data",
          "data": {
            "image/png": "[encoded data removed]",
            "text/plain": [
              "<Figure size 720x432 with 1 Axes>"
            ]
          },
          "metadata": {
            "needs_background": "light"
          }
        }
      ]
    },
    {
      "cell_type": "code",
      "metadata": {
        "colab": {
          "base_uri": "https://localhost:8080/",
          "height": 238
        },
        "id": "KlPYs0FuTVzz",
        "outputId": "6a64a60a-7a59-4768-e447-60726fa3ae57"
      },
      "source": [
        "import numpy as np\n",
        "df['t'] = np.arange(1, len(df) + 1)\n",
        "df.head()"
      ],
      "execution_count": 53,
      "outputs": [
        {
          "output_type": "execute_result",
          "data": {
            "text/html": [
              "<div>\n",
              "<style scoped>\n",
              "    .dataframe tbody tr th:only-of-type {\n",
              "        vertical-align: middle;\n",
              "    }\n",
              "\n",
              "    .dataframe tbody tr th {\n",
              "        vertical-align: top;\n",
              "    }\n",
              "\n",
              "    .dataframe thead th {\n",
              "        text-align: right;\n",
              "    }\n",
              "</style>\n",
              "<table border=\"1\" class=\"dataframe\">\n",
              "  <thead>\n",
              "    <tr style=\"text-align: right;\">\n",
              "      <th></th>\n",
              "      <th>y</th>\n",
              "      <th>ymaneken</th>\n",
              "      <th>t</th>\n",
              "    </tr>\n",
              "    <tr>\n",
              "      <th>date</th>\n",
              "      <th></th>\n",
              "      <th></th>\n",
              "      <th></th>\n",
              "    </tr>\n",
              "  </thead>\n",
              "  <tbody>\n",
              "    <tr>\n",
              "      <th>2007-01-01</th>\n",
              "      <td>4.20</td>\n",
              "      <td>0</td>\n",
              "      <td>1</td>\n",
              "    </tr>\n",
              "    <tr>\n",
              "      <th>2007-02-01</th>\n",
              "      <td>3.93</td>\n",
              "      <td>1</td>\n",
              "      <td>2</td>\n",
              "    </tr>\n",
              "    <tr>\n",
              "      <th>2007-03-01</th>\n",
              "      <td>3.64</td>\n",
              "      <td>1</td>\n",
              "      <td>3</td>\n",
              "    </tr>\n",
              "    <tr>\n",
              "      <th>2007-04-01</th>\n",
              "      <td>3.53</td>\n",
              "      <td>1</td>\n",
              "      <td>4</td>\n",
              "    </tr>\n",
              "    <tr>\n",
              "      <th>2007-05-01</th>\n",
              "      <td>3.69</td>\n",
              "      <td>1</td>\n",
              "      <td>5</td>\n",
              "    </tr>\n",
              "  </tbody>\n",
              "</table>\n",
              "</div>"
            ],
            "text/plain": [
              "               y  ymaneken  t\n",
              "date                         \n",
              "2007-01-01  4.20         0  1\n",
              "2007-02-01  3.93         1  2\n",
              "2007-03-01  3.64         1  3\n",
              "2007-04-01  3.53         1  4\n",
              "2007-05-01  3.69         1  5"
            ]
          },
          "metadata": {},
          "execution_count": 53
        }
      ]
    },
    {
      "cell_type": "code",
      "metadata": {
        "colab": {
          "base_uri": "https://localhost:8080/"
        },
        "id": "Uw17Ofp1TYHb",
        "outputId": "9d7101f1-bf66-4f20-cde0-7a03b274be92"
      },
      "source": [
        "import numpy as np\n",
        "coef = np.polyfit(df['t'], df['y'], deg = 2)\n",
        "coef"
      ],
      "execution_count": 54,
      "outputs": [
        {
          "output_type": "execute_result",
          "data": {
            "text/plain": [
              "array([2.53497329e-05, 5.43936548e-03, 4.08457100e+00])"
            ]
          },
          "metadata": {},
          "execution_count": 54
        }
      ]
    },
    {
      "cell_type": "code",
      "metadata": {
        "colab": {
          "base_uri": "https://localhost:8080/"
        },
        "id": "v5yZ-EtgTaaF",
        "outputId": "6ddbe56d-ebf5-4586-f12a-fdbe44034bcd"
      },
      "source": [
        "df['y^'] = coef[0] * df['t'] + coef[1] + coef[2]\n",
        "df['y^'].head()"
      ],
      "execution_count": 55,
      "outputs": [
        {
          "output_type": "execute_result",
          "data": {
            "text/plain": [
              "date\n",
              "2007-01-01    4.090036\n",
              "2007-02-01    4.090061\n",
              "2007-03-01    4.090086\n",
              "2007-04-01    4.090112\n",
              "2007-05-01    4.090137\n",
              "Name: y^, dtype: float64"
            ]
          },
          "metadata": {},
          "execution_count": 55
        }
      ]
    },
    {
      "cell_type": "code",
      "metadata": {
        "colab": {
          "base_uri": "https://localhost:8080/",
          "height": 442
        },
        "id": "ZzzOdD7kTc0b",
        "outputId": "1f4c3000-0716-46e2-e3e8-86a4a63cf995"
      },
      "source": [
        "fig, ax = plt.subplots(figsize = (12, 7))\n",
        "\n",
        "plt.xlabel(df_index)\n",
        "plt.ylabel(df_columns[0])\n",
        "\n",
        "ax.plot(df['y^'], color = 'orange')\n",
        "\n",
        "ax.plot(df['y'], marker = 'o', color = (0, 0, 0, 0), markerfacecolor = 'blue')\n",
        "\n",
        "ax.xaxis.set_major_locator(mpl.dates.YearLocator())\n",
        "ax.xaxis.set_major_formatter(mpl.dates.DateFormatter('%Y'))\n",
        "    \n",
        "plt.show()"
      ],
      "execution_count": 56,
      "outputs": [
        {
          "output_type": "display_data",
          "data": {
            "image/png": "[encoded data removed]",
            "text/plain": [
              "<Figure size 864x504 with 1 Axes>"
            ]
          },
          "metadata": {
            "needs_background": "light"
          }
        }
      ]
    },
    {
      "cell_type": "code",
      "metadata": {
        "colab": {
          "base_uri": "https://localhost:8080/",
          "height": 388
        },
        "id": "kAdaHJDdTfMr",
        "outputId": "7fb7b9f3-7382-4134-c8e2-16bd4e6ca307"
      },
      "source": [
        "from pandas.plotting import autocorrelation_plot\n",
        "\n",
        "fig, ax = plt.subplots(figsize = (10, 6))\n",
        "\n",
        "autocorrelation_plot(df['y'], ax = ax, marker = '.')\n",
        "ax.xaxis.set_major_locator(plt.MultipleLocator(6))\n",
        "ax.set_xlim(0, 48)\n",
        "\n",
        "plt.show()"
      ],
      "execution_count": 57,
      "outputs": [
        {
          "output_type": "display_data",
          "data": {
            "image/png": "[encoded data removed]",
            "text/plain": [
              "<Figure size 720x432 with 1 Axes>"
            ]
          },
          "metadata": {
            "needs_background": "light"
          }
        }
      ]
    },
    {
      "cell_type": "markdown",
      "metadata": {
        "id": "qWSAHhAATjvH"
      },
      "source": [
        "по графику автокорреляции для ряда данных можно предположить, что лаг **сезонности** равен 12"
      ]
    },
    {
      "cell_type": "code",
      "metadata": {
        "colab": {
          "base_uri": "https://localhost:8080/",
          "height": 426
        },
        "id": "mEE7fdocTiRt",
        "outputId": "d9830739-d0a3-4351-f389-3bbd1be9419f"
      },
      "source": [
        "import pandas as pd\n",
        "s = 12\n",
        "ses = (df['y']-df['y^'])\n",
        "ses = np.array([np.mean(ses.iloc[k::s]) for k in range(s)])\n",
        "ses = pd.DataFrame(ses - np.mean(ses), index = np.arange(1, s + 1))\n",
        "ses"
      ],
      "execution_count": 58,
      "outputs": [
        {
          "output_type": "execute_result",
          "data": {
            "text/html": [
              "<div>\n",
              "<style scoped>\n",
              "    .dataframe tbody tr th:only-of-type {\n",
              "        vertical-align: middle;\n",
              "    }\n",
              "\n",
              "    .dataframe tbody tr th {\n",
              "        vertical-align: top;\n",
              "    }\n",
              "\n",
              "    .dataframe thead th {\n",
              "        text-align: right;\n",
              "    }\n",
              "</style>\n",
              "<table border=\"1\" class=\"dataframe\">\n",
              "  <thead>\n",
              "    <tr style=\"text-align: right;\">\n",
              "      <th></th>\n",
              "      <th>0</th>\n",
              "    </tr>\n",
              "  </thead>\n",
              "  <tbody>\n",
              "    <tr>\n",
              "      <th>1</th>\n",
              "      <td>-0.005277</td>\n",
              "    </tr>\n",
              "    <tr>\n",
              "      <th>2</th>\n",
              "      <td>-0.287803</td>\n",
              "    </tr>\n",
              "    <tr>\n",
              "      <th>3</th>\n",
              "      <td>-0.610328</td>\n",
              "    </tr>\n",
              "    <tr>\n",
              "      <th>4</th>\n",
              "      <td>-0.637853</td>\n",
              "    </tr>\n",
              "    <tr>\n",
              "      <th>5</th>\n",
              "      <td>-0.562879</td>\n",
              "    </tr>\n",
              "    <tr>\n",
              "      <th>6</th>\n",
              "      <td>-0.362904</td>\n",
              "    </tr>\n",
              "    <tr>\n",
              "      <th>7</th>\n",
              "      <td>-0.017929</td>\n",
              "    </tr>\n",
              "    <tr>\n",
              "      <th>8</th>\n",
              "      <td>0.374545</td>\n",
              "    </tr>\n",
              "    <tr>\n",
              "      <th>9</th>\n",
              "      <td>0.592020</td>\n",
              "    </tr>\n",
              "    <tr>\n",
              "      <th>10</th>\n",
              "      <td>0.634495</td>\n",
              "    </tr>\n",
              "    <tr>\n",
              "      <th>11</th>\n",
              "      <td>0.561969</td>\n",
              "    </tr>\n",
              "    <tr>\n",
              "      <th>12</th>\n",
              "      <td>0.321944</td>\n",
              "    </tr>\n",
              "  </tbody>\n",
              "</table>\n",
              "</div>"
            ],
            "text/plain": [
              "           0\n",
              "1  -0.005277\n",
              "2  -0.287803\n",
              "3  -0.610328\n",
              "4  -0.637853\n",
              "5  -0.562879\n",
              "6  -0.362904\n",
              "7  -0.017929\n",
              "8   0.374545\n",
              "9   0.592020\n",
              "10  0.634495\n",
              "11  0.561969\n",
              "12  0.321944"
            ]
          },
          "metadata": {},
          "execution_count": 58
        }
      ]
    },
    {
      "cell_type": "code",
      "metadata": {
        "colab": {
          "base_uri": "https://localhost:8080/",
          "height": 374
        },
        "id": "zf2iVV1pT0C5",
        "outputId": "d4058265-c4f6-4ac5-a83f-32b3ffb51e8f"
      },
      "source": [
        "fig, ax = plt.subplots(figsize = (10, 6))\n",
        "ax.set_xlim(0, s + 1)\n",
        "plt.plot(ses)\n",
        "plt.show()"
      ],
      "execution_count": 59,
      "outputs": [
        {
          "output_type": "display_data",
          "data": {
            "image/png": "[encoded data removed]",
            "text/plain": [
              "<Figure size 720x432 with 1 Axes>"
            ]
          },
          "metadata": {
            "needs_background": "light"
          }
        }
      ]
    },
    {
      "cell_type": "code",
      "metadata": {
        "id": "XmbLQDjdT1tt"
      },
      "source": [
        "tmp = pd.concat([ses for _ in range(4)], ignore_index = True)\n",
        "tmp.index = df.index\n",
        "\n",
        "df['s'] = tmp\n",
        "df['y^s'] = df['y^'] + df['s']"
      ],
      "execution_count": 60,
      "outputs": []
    },
    {
      "cell_type": "code",
      "metadata": {
        "colab": {
          "base_uri": "https://localhost:8080/",
          "height": 442
        },
        "id": "NUWef3xyT3-t",
        "outputId": "ea4ee597-9924-4558-eff5-2cd00fc6fda8"
      },
      "source": [
        "fig, ax = plt.subplots(figsize = (12, 7))\n",
        "\n",
        "plt.xlabel(df_index)\n",
        "plt.ylabel(df_columns[0])\n",
        "\n",
        "ax.plot(df['y^s'], color = 'orange')\n",
        "\n",
        "ax.plot(df['y'], marker = 'o', color = (0, 0, 0, 0), markerfacecolor = 'blue')\n",
        "\n",
        "ax.xaxis.set_major_locator(mpl.dates.YearLocator())\n",
        "ax.xaxis.set_major_formatter(mpl.dates.DateFormatter('%Y'))\n",
        "    \n",
        "plt.show()"
      ],
      "execution_count": 61,
      "outputs": [
        {
          "output_type": "display_data",
          "data": {
            "image/png": "[encoded data removed]",
            "text/plain": [
              "<Figure size 864x504 with 1 Axes>"
            ]
          },
          "metadata": {
            "needs_background": "light"
          }
        }
      ]
    },
    {
      "cell_type": "code",
      "metadata": {
        "id": "1T8DmEJaT58u"
      },
      "source": [
        "n = len(df)\n",
        "\n",
        "x = np.arange(48, 60)\n",
        "\n",
        "df_fv = pd.DataFrame({'y' : coef[0] * x + coef[1] + coef[2] + df['s'].iloc[:12].array}, index = pd.date_range(start = df.index[-1] + np.timedelta64(1, 'M'), \n",
        "                                    end   = df.index[-1] + np.timedelta64(13, 'M'), \n",
        "                                    freq  = 'MS'))"
      ],
      "execution_count": 62,
      "outputs": []
    },
    {
      "cell_type": "markdown",
      "metadata": {
        "id": "yqQutB2yT8bK"
      },
      "source": [
        "точечный и интервальный прогноз>"
      ]
    },
    {
      "cell_type": "code",
      "metadata": {
        "colab": {
          "base_uri": "https://localhost:8080/"
        },
        "id": "afQORpRTUAL0",
        "outputId": "529984de-9ed5-46eb-cd35-229b604d6830"
      },
      "source": [
        "variance = np.sum(np.power(df['y'] - df['y^s'], 2)) / (n-1)\n",
        "sigma =np.power(variance,0.5)\n",
        "sigma"
      ],
      "execution_count": 63,
      "outputs": [
        {
          "output_type": "execute_result",
          "data": {
            "text/plain": [
              "0.15626046016602904"
            ]
          },
          "metadata": {},
          "execution_count": 63
        }
      ]
    },
    {
      "cell_type": "markdown",
      "metadata": {
        "id": "087rZ4JnUCKS"
      },
      "source": [
        "условная дисперсия СНО"
      ]
    },
    {
      "cell_type": "code",
      "metadata": {
        "colab": {
          "base_uri": "https://localhost:8080/"
        },
        "id": "kACbswadUEfD",
        "outputId": "d3a5f60b-88ce-4e1d-fc15-5ddf4b012815"
      },
      "source": [
        "from scipy.stats import t\n",
        "tstud=t.interval(0.95, len(df)-1)\n",
        "list(tstud)"
      ],
      "execution_count": 64,
      "outputs": [
        {
          "output_type": "execute_result",
          "data": {
            "text/plain": [
              "[-2.0117405104757546, 2.0117405104757546]"
            ]
          },
          "metadata": {},
          "execution_count": 64
        }
      ]
    },
    {
      "cell_type": "code",
      "metadata": {
        "colab": {
          "base_uri": "https://localhost:8080/"
        },
        "id": "9O2zFQcIUHJN",
        "outputId": "ad72391b-c3be-4fdc-d455-d0c4ec7e28f4"
      },
      "source": [
        "lower=list(tstud)[0]*sigma\n",
        "lower"
      ],
      "execution_count": 65,
      "outputs": [
        {
          "output_type": "execute_result",
          "data": {
            "text/plain": [
              "-0.31435549790158357"
            ]
          },
          "metadata": {},
          "execution_count": 65
        }
      ]
    },
    {
      "cell_type": "code",
      "metadata": {
        "colab": {
          "base_uri": "https://localhost:8080/"
        },
        "id": "Gp-A0I99UJN6",
        "outputId": "fe763f31-fde1-4c74-f0fa-702c867942bf"
      },
      "source": [
        "upper=list(tstud)[1]*sigma\n",
        "upper"
      ],
      "execution_count": 66,
      "outputs": [
        {
          "output_type": "execute_result",
          "data": {
            "text/plain": [
              "0.31435549790158357"
            ]
          },
          "metadata": {},
          "execution_count": 66
        }
      ]
    },
    {
      "cell_type": "code",
      "metadata": {
        "id": "IK6Yu5pEUKj5"
      },
      "source": [
        "df_fv['y-'] = df_fv['y'] + lower\n",
        "df_fv['y+'] = df_fv['y'] + upper"
      ],
      "execution_count": 67,
      "outputs": []
    },
    {
      "cell_type": "code",
      "metadata": {
        "colab": {
          "base_uri": "https://localhost:8080/",
          "height": 458
        },
        "id": "lwW8dJbAUMZj",
        "outputId": "1e127308-fb65-44eb-ab70-48a4d4187b9e"
      },
      "source": [
        "fig, ax = plt.subplots(figsize = (12, 7))\n",
        "\n",
        "plt.title('Доверительные интервалы прогноза с вероятностью 0.95')\n",
        "plt.xlabel(df_index)\n",
        "plt.ylabel(df_columns[0])\n",
        "\n",
        "ax.plot(df_fv['y-'], color = 'green')\n",
        "ax.plot(df_fv['y'],  color = 'orange')\n",
        "ax.plot(df_fv['y+'], color = 'green')\n",
        "\n",
        "ax.plot(df['y'], marker = 'o', color = (0, 0, 0, 0), markerfacecolor = 'blue')\n",
        "ax.plot(df['y^s'], color = 'orange')\n",
        "\n",
        "ax.xaxis.set_major_locator(mpl.dates.YearLocator())\n",
        "ax.xaxis.set_major_formatter(mpl.dates.DateFormatter('%Y'))\n",
        "    \n",
        "plt.show()"
      ],
      "execution_count": 68,
      "outputs": [
        {
          "output_type": "display_data",
          "data": {
            "image/png": "[encoded data removed]",
            "text/plain": [
              "<Figure size 864x504 with 1 Axes>"
            ]
          },
          "metadata": {
            "needs_background": "light"
          }
        }
      ]
    },
    {
      "cell_type": "code",
      "metadata": {
        "colab": {
          "base_uri": "https://localhost:8080/"
        },
        "id": "mJQntGEfUN0O",
        "outputId": "1a5737bf-a062-493a-bd7c-3e0fa77d3452"
      },
      "source": [
        "1 - np.sum(np.power(df['y'] - df['y^s'], 2)) / np.sum(np.power(df['y'] - np.mean(df['y']), 2))"
      ],
      "execution_count": 69,
      "outputs": [
        {
          "output_type": "execute_result",
          "data": {
            "text/plain": [
              "0.8917854334635441"
            ]
          },
          "metadata": {},
          "execution_count": 69
        }
      ]
    },
    {
      "cell_type": "markdown",
      "metadata": {
        "id": "dtYeVe5dUQpa"
      },
      "source": [
        "коэф. детерминации "
      ]
    }
  ]
}